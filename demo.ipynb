{
 "cells": [
  {
   "cell_type": "markdown",
   "id": "7206fbc3-46d3-445c-a960-01a9713be0da",
   "metadata": {},
   "source": [
    "# `dskit` demo"
   ]
  },
  {
   "cell_type": "code",
   "execution_count": 9,
   "id": "120f864f-71ae-4389-84d5-a05001a62bc8",
   "metadata": {},
   "outputs": [],
   "source": [
    "import numpy as np\n",
    "import pandas as pd\n",
    "\n",
    "from dskit.demo import generate_demo_df\n",
    "from dskit.pivots import check_empty_values, get_target_pivot\n",
    "from dskit.preprocessing import merge_rare_values"
   ]
  },
  {
   "cell_type": "code",
   "execution_count": 2,
   "id": "403b97d9-d86f-4d2c-a035-080e02188619",
   "metadata": {},
   "outputs": [],
   "source": [
    "pd.set_option('display.max_rows', 500)\n",
    "pd.set_option('display.max_columns', 500)\n",
    "pd.set_option('display.width', 1000)\n",
    "pd.set_option('display.float_format', '{:.3f}'.format)"
   ]
  },
  {
   "cell_type": "code",
   "execution_count": 3,
   "id": "aaa00b97-d70d-4c80-8a1f-a23501323d1b",
   "metadata": {},
   "outputs": [],
   "source": [
    "df = generate_demo_df(size=1_000)"
   ]
  },
  {
   "cell_type": "markdown",
   "id": "eebc523a-8c9d-4fdb-b1e0-c727ee96cadc",
   "metadata": {},
   "source": [
    "## 1. `dskit.pivots`\n",
    "### 1.1. `dskit.pivots.check_empty_values`"
   ]
  },
  {
   "cell_type": "code",
   "execution_count": 4,
   "id": "47955998-6b5a-4b89-a6aa-e600b1ff1279",
   "metadata": {},
   "outputs": [
    {
     "data": {
      "text/plain": [
       "children_count\n",
       "0.000    335\n",
       "1.000    345\n",
       "2.000    188\n",
       "3.000     73\n",
       "4.000     13\n",
       "NaN       46\n",
       "Name: count, dtype: int64"
      ]
     },
     "execution_count": 4,
     "metadata": {},
     "output_type": "execute_result"
    }
   ],
   "source": [
    "df['children_count'].value_counts(dropna=False).sort_index()"
   ]
  },
  {
   "cell_type": "code",
   "execution_count": 5,
   "id": "28285d4c-a973-4cef-93b8-574c7d08440b",
   "metadata": {},
   "outputs": [
    {
     "name": "stdout",
     "output_type": "stream",
     "text": [
      "nans:  46 (4.6%)\n",
      "zeros: 335 (33.5%)\n"
     ]
    }
   ],
   "source": [
    "check_empty_values(df, col='children_count')"
   ]
  },
  {
   "cell_type": "markdown",
   "id": "d861968b-4fee-4234-ac3a-150adea07068",
   "metadata": {},
   "source": [
    "### 1.2. `dskit.pivots.get_target_pivot`"
   ]
  },
  {
   "cell_type": "code",
   "execution_count": 6,
   "id": "b244563d-9f05-4a04-992c-31e72a49a957",
   "metadata": {},
   "outputs": [
    {
     "data": {
      "text/html": [
       "<style type=\"text/css\">\n",
       "#T_feac1_row0_col0 {\n",
       "  background-color: #006837;\n",
       "  color: #f1f1f1;\n",
       "}\n",
       "#T_feac1_row1_col0 {\n",
       "  background-color: #f67a49;\n",
       "  color: #f1f1f1;\n",
       "}\n",
       "#T_feac1_row2_col0 {\n",
       "  background-color: #a50026;\n",
       "  color: #f1f1f1;\n",
       "}\n",
       "</style>\n",
       "<table id=\"T_feac1\">\n",
       "  <thead>\n",
       "    <tr>\n",
       "      <th class=\"blank level0\" >&nbsp;</th>\n",
       "      <th id=\"T_feac1_level0_col0\" class=\"col_heading level0 col0\" >total_payments</th>\n",
       "      <th id=\"T_feac1_level0_col1\" class=\"col_heading level0 col1\" >n_items</th>\n",
       "      <th id=\"T_feac1_level0_col2\" class=\"col_heading level0 col2\" >%_items</th>\n",
       "    </tr>\n",
       "    <tr>\n",
       "      <th class=\"index_name level0\" >client_class</th>\n",
       "      <th class=\"blank col0\" >&nbsp;</th>\n",
       "      <th class=\"blank col1\" >&nbsp;</th>\n",
       "      <th class=\"blank col2\" >&nbsp;</th>\n",
       "    </tr>\n",
       "  </thead>\n",
       "  <tbody>\n",
       "    <tr>\n",
       "      <th id=\"T_feac1_level0_row0\" class=\"row_heading level0 row0\" >A</th>\n",
       "      <td id=\"T_feac1_row0_col0\" class=\"data row0 col0\" >19 377.67</td>\n",
       "      <td id=\"T_feac1_row0_col1\" class=\"data row0 col1\" >45</td>\n",
       "      <td id=\"T_feac1_row0_col2\" class=\"data row0 col2\" >4.5%</td>\n",
       "    </tr>\n",
       "    <tr>\n",
       "      <th id=\"T_feac1_level0_row1\" class=\"row_heading level0 row1\" >B</th>\n",
       "      <td id=\"T_feac1_row1_col0\" class=\"data row1 col0\" >5 083.39</td>\n",
       "      <td id=\"T_feac1_row1_col1\" class=\"data row1 col1\" >155</td>\n",
       "      <td id=\"T_feac1_row1_col2\" class=\"data row1 col2\" >15.5%</td>\n",
       "    </tr>\n",
       "    <tr>\n",
       "      <th id=\"T_feac1_level0_row2\" class=\"row_heading level0 row2\" >C</th>\n",
       "      <td id=\"T_feac1_row2_col0\" class=\"data row2 col0\" >1 008.81</td>\n",
       "      <td id=\"T_feac1_row2_col1\" class=\"data row2 col1\" >800</td>\n",
       "      <td id=\"T_feac1_row2_col2\" class=\"data row2 col2\" >80.0%</td>\n",
       "    </tr>\n",
       "  </tbody>\n",
       "</table>\n"
      ],
      "text/plain": [
       "<pandas.io.formats.style.Styler at 0x20e8dfdc650>"
      ]
     },
     "execution_count": 6,
     "metadata": {},
     "output_type": "execute_result"
    }
   ],
   "source": [
    "get_target_pivot(df, col='client_class', target_col='total_payments')"
   ]
  },
  {
   "cell_type": "code",
   "execution_count": 7,
   "id": "cd0165bb-51d7-4deb-8f4a-cde18a66df9d",
   "metadata": {},
   "outputs": [
    {
     "data": {
      "text/html": [
       "<style type=\"text/css\">\n",
       "#T_22772_row0_col0 {\n",
       "  background-color: #006837;\n",
       "  color: #f1f1f1;\n",
       "}\n",
       "#T_22772_row1_col0 {\n",
       "  background-color: #4bb05c;\n",
       "  color: #f1f1f1;\n",
       "}\n",
       "#T_22772_row2_col0 {\n",
       "  background-color: #a50026;\n",
       "  color: #f1f1f1;\n",
       "}\n",
       "</style>\n",
       "<table id=\"T_22772\">\n",
       "  <thead>\n",
       "    <tr>\n",
       "      <th class=\"blank level0\" >&nbsp;</th>\n",
       "      <th id=\"T_22772_level0_col0\" class=\"col_heading level0 col0\" >risk</th>\n",
       "      <th id=\"T_22772_level0_col1\" class=\"col_heading level0 col1\" >n_items</th>\n",
       "      <th id=\"T_22772_level0_col2\" class=\"col_heading level0 col2\" >%_items</th>\n",
       "    </tr>\n",
       "    <tr>\n",
       "      <th class=\"index_name level0\" >client_class</th>\n",
       "      <th class=\"blank col0\" >&nbsp;</th>\n",
       "      <th class=\"blank col1\" >&nbsp;</th>\n",
       "      <th class=\"blank col2\" >&nbsp;</th>\n",
       "    </tr>\n",
       "  </thead>\n",
       "  <tbody>\n",
       "    <tr>\n",
       "      <th id=\"T_22772_level0_row0\" class=\"row_heading level0 row0\" >A</th>\n",
       "      <td id=\"T_22772_row0_col0\" class=\"data row0 col0\" >6.7%</td>\n",
       "      <td id=\"T_22772_row0_col1\" class=\"data row0 col1\" >45</td>\n",
       "      <td id=\"T_22772_row0_col2\" class=\"data row0 col2\" >4.5%</td>\n",
       "    </tr>\n",
       "    <tr>\n",
       "      <th id=\"T_22772_level0_row1\" class=\"row_heading level0 row1\" >B</th>\n",
       "      <td id=\"T_22772_row1_col0\" class=\"data row1 col0\" >9.0%</td>\n",
       "      <td id=\"T_22772_row1_col1\" class=\"data row1 col1\" >155</td>\n",
       "      <td id=\"T_22772_row1_col2\" class=\"data row1 col2\" >15.5%</td>\n",
       "    </tr>\n",
       "    <tr>\n",
       "      <th id=\"T_22772_level0_row2\" class=\"row_heading level0 row2\" >C</th>\n",
       "      <td id=\"T_22772_row2_col0\" class=\"data row2 col0\" >20.9%</td>\n",
       "      <td id=\"T_22772_row2_col1\" class=\"data row2 col1\" >800</td>\n",
       "      <td id=\"T_22772_row2_col2\" class=\"data row2 col2\" >80.0%</td>\n",
       "    </tr>\n",
       "  </tbody>\n",
       "</table>\n"
      ],
      "text/plain": [
       "<pandas.io.formats.style.Styler at 0x20e89b80810>"
      ]
     },
     "execution_count": 7,
     "metadata": {},
     "output_type": "execute_result"
    }
   ],
   "source": [
    "get_target_pivot(df, col='client_class', target_col='risk', positive_target=False)"
   ]
  },
  {
   "cell_type": "code",
   "execution_count": 8,
   "id": "7129bc25-607d-4c42-a7cd-f78125ccfd13",
   "metadata": {},
   "outputs": [
    {
     "data": {
      "text/html": [
       "<style type=\"text/css\">\n",
       "#T_ceb17_row0_col0 {\n",
       "  background-color: #006837;\n",
       "  color: #f1f1f1;\n",
       "}\n",
       "#T_ceb17_row1_col0 {\n",
       "  background-color: #4bb05c;\n",
       "  color: #f1f1f1;\n",
       "}\n",
       "#T_ceb17_row2_col0 {\n",
       "  background-color: #a50026;\n",
       "  color: #f1f1f1;\n",
       "}\n",
       "</style>\n",
       "<table id=\"T_ceb17\">\n",
       "  <thead>\n",
       "    <tr>\n",
       "      <th class=\"blank level0\" >&nbsp;</th>\n",
       "      <th id=\"T_ceb17_level0_col0\" class=\"col_heading level0 col0\" >risk</th>\n",
       "      <th id=\"T_ceb17_level0_col1\" class=\"col_heading level0 col1\" >n_items</th>\n",
       "      <th id=\"T_ceb17_level0_col2\" class=\"col_heading level0 col2\" >%_items</th>\n",
       "      <th id=\"T_ceb17_level0_col3\" class=\"col_heading level0 col3\" >total_payments</th>\n",
       "      <th id=\"T_ceb17_level0_col4\" class=\"col_heading level0 col4\" >%_total_payments</th>\n",
       "    </tr>\n",
       "    <tr>\n",
       "      <th class=\"index_name level0\" >client_class</th>\n",
       "      <th class=\"blank col0\" >&nbsp;</th>\n",
       "      <th class=\"blank col1\" >&nbsp;</th>\n",
       "      <th class=\"blank col2\" >&nbsp;</th>\n",
       "      <th class=\"blank col3\" >&nbsp;</th>\n",
       "      <th class=\"blank col4\" >&nbsp;</th>\n",
       "    </tr>\n",
       "  </thead>\n",
       "  <tbody>\n",
       "    <tr>\n",
       "      <th id=\"T_ceb17_level0_row0\" class=\"row_heading level0 row0\" >A</th>\n",
       "      <td id=\"T_ceb17_row0_col0\" class=\"data row0 col0\" >6.7%</td>\n",
       "      <td id=\"T_ceb17_row0_col1\" class=\"data row0 col1\" >45</td>\n",
       "      <td id=\"T_ceb17_row0_col2\" class=\"data row0 col2\" >4.5%</td>\n",
       "      <td id=\"T_ceb17_row0_col3\" class=\"data row0 col3\" >871 994.93</td>\n",
       "      <td id=\"T_ceb17_row0_col4\" class=\"data row0 col4\" >35.3%</td>\n",
       "    </tr>\n",
       "    <tr>\n",
       "      <th id=\"T_ceb17_level0_row1\" class=\"row_heading level0 row1\" >B</th>\n",
       "      <td id=\"T_ceb17_row1_col0\" class=\"data row1 col0\" >9.0%</td>\n",
       "      <td id=\"T_ceb17_row1_col1\" class=\"data row1 col1\" >155</td>\n",
       "      <td id=\"T_ceb17_row1_col2\" class=\"data row1 col2\" >15.5%</td>\n",
       "      <td id=\"T_ceb17_row1_col3\" class=\"data row1 col3\" >787 925.61</td>\n",
       "      <td id=\"T_ceb17_row1_col4\" class=\"data row1 col4\" >31.9%</td>\n",
       "    </tr>\n",
       "    <tr>\n",
       "      <th id=\"T_ceb17_level0_row2\" class=\"row_heading level0 row2\" >C</th>\n",
       "      <td id=\"T_ceb17_row2_col0\" class=\"data row2 col0\" >20.9%</td>\n",
       "      <td id=\"T_ceb17_row2_col1\" class=\"data row2 col1\" >800</td>\n",
       "      <td id=\"T_ceb17_row2_col2\" class=\"data row2 col2\" >80.0%</td>\n",
       "      <td id=\"T_ceb17_row2_col3\" class=\"data row2 col3\" >807 045.60</td>\n",
       "      <td id=\"T_ceb17_row2_col4\" class=\"data row2 col4\" >32.7%</td>\n",
       "    </tr>\n",
       "  </tbody>\n",
       "</table>\n"
      ],
      "text/plain": [
       "<pandas.io.formats.style.Styler at 0x20e89b371d0>"
      ]
     },
     "execution_count": 8,
     "metadata": {},
     "output_type": "execute_result"
    }
   ],
   "source": [
    "get_target_pivot(df, col='client_class', target_col='risk', revenue_col='total_payments', positive_target=False)"
   ]
  },
  {
   "cell_type": "markdown",
   "id": "a95f6fa6-df8d-49dc-8d5d-12e6125a3330",
   "metadata": {},
   "source": [
    "## 2. `dskit.preprocessing`\n",
    "### 2.1. `dskit.preprocessing.merge_rare_values`"
   ]
  },
  {
   "cell_type": "code",
   "execution_count": 14,
   "id": "e81549a9-0f52-4f2a-8af2-105cc916bb68",
   "metadata": {},
   "outputs": [],
   "source": [
    "df['citizenship_merged'] = merge_rare_values(df['citizenship'], threshold=0.05)"
   ]
  },
  {
   "cell_type": "code",
   "execution_count": 16,
   "id": "369a7763-4f56-4094-a694-a22f3d1c6188",
   "metadata": {},
   "outputs": [
    {
     "data": {
      "text/plain": [
       "10"
      ]
     },
     "execution_count": 16,
     "metadata": {},
     "output_type": "execute_result"
    }
   ],
   "source": [
    "print(df['citizenship'].nunique())\n",
    "print(df['citizenship'].nunique())"
   ]
  },
  {
   "cell_type": "code",
   "execution_count": 15,
   "id": "2b6d1667-e4a8-444b-bda3-b8a09c5ed645",
   "metadata": {},
   "outputs": [
    {
     "data": {
      "text/html": [
       "<style type=\"text/css\">\n",
       "#T_43e02_row0_col0 {\n",
       "  background-color: #006837;\n",
       "  color: #f1f1f1;\n",
       "}\n",
       "#T_43e02_row1_col0 {\n",
       "  background-color: #08773f;\n",
       "  color: #f1f1f1;\n",
       "}\n",
       "#T_43e02_row2_col0 {\n",
       "  background-color: #60ba62;\n",
       "  color: #f1f1f1;\n",
       "}\n",
       "#T_43e02_row3_col0 {\n",
       "  background-color: #6bbf64;\n",
       "  color: #000000;\n",
       "}\n",
       "#T_43e02_row4_col0 {\n",
       "  background-color: #a50026;\n",
       "  color: #f1f1f1;\n",
       "}\n",
       "</style>\n",
       "<table id=\"T_43e02\">\n",
       "  <thead>\n",
       "    <tr>\n",
       "      <th class=\"blank level0\" >&nbsp;</th>\n",
       "      <th id=\"T_43e02_level0_col0\" class=\"col_heading level0 col0\" >total_payments</th>\n",
       "      <th id=\"T_43e02_level0_col1\" class=\"col_heading level0 col1\" >n_items</th>\n",
       "      <th id=\"T_43e02_level0_col2\" class=\"col_heading level0 col2\" >%_items</th>\n",
       "    </tr>\n",
       "    <tr>\n",
       "      <th class=\"index_name level0\" >citizenship_merged</th>\n",
       "      <th class=\"blank col0\" >&nbsp;</th>\n",
       "      <th class=\"blank col1\" >&nbsp;</th>\n",
       "      <th class=\"blank col2\" >&nbsp;</th>\n",
       "    </tr>\n",
       "  </thead>\n",
       "  <tbody>\n",
       "    <tr>\n",
       "      <th id=\"T_43e02_level0_row0\" class=\"row_heading level0 row0\" >id</th>\n",
       "      <td id=\"T_43e02_row0_col0\" class=\"data row0 col0\" >2 676.42</td>\n",
       "      <td id=\"T_43e02_row0_col1\" class=\"data row0 col1\" >165</td>\n",
       "      <td id=\"T_43e02_row0_col2\" class=\"data row0 col2\" >16.5%</td>\n",
       "    </tr>\n",
       "    <tr>\n",
       "      <th id=\"T_43e02_level0_row1\" class=\"row_heading level0 row1\" >us</th>\n",
       "      <td id=\"T_43e02_row1_col0\" class=\"data row1 col0\" >2 647.60</td>\n",
       "      <td id=\"T_43e02_row1_col1\" class=\"data row1 col1\" >192</td>\n",
       "      <td id=\"T_43e02_row1_col2\" class=\"data row1 col2\" >19.2%</td>\n",
       "    </tr>\n",
       "    <tr>\n",
       "      <th id=\"T_43e02_level0_row2\" class=\"row_heading level0 row2\" >cn</th>\n",
       "      <td id=\"T_43e02_row2_col0\" class=\"data row2 col0\" >2 518.93</td>\n",
       "      <td id=\"T_43e02_row2_col1\" class=\"data row2 col1\" >259</td>\n",
       "      <td id=\"T_43e02_row2_col2\" class=\"data row2 col2\" >25.9%</td>\n",
       "    </tr>\n",
       "    <tr>\n",
       "      <th id=\"T_43e02_level0_row3\" class=\"row_heading level0 row3\" >in</th>\n",
       "      <td id=\"T_43e02_row3_col0\" class=\"data row3 col0\" >2 505.89</td>\n",
       "      <td id=\"T_43e02_row3_col1\" class=\"data row3 col1\" >234</td>\n",
       "      <td id=\"T_43e02_row3_col2\" class=\"data row3 col2\" >23.4%</td>\n",
       "    </tr>\n",
       "    <tr>\n",
       "      <th id=\"T_43e02_level0_row4\" class=\"row_heading level0 row4\" >OTHER</th>\n",
       "      <td id=\"T_43e02_row4_col0\" class=\"data row4 col0\" >1 854.90</td>\n",
       "      <td id=\"T_43e02_row4_col1\" class=\"data row4 col1\" >150</td>\n",
       "      <td id=\"T_43e02_row4_col2\" class=\"data row4 col2\" >15.0%</td>\n",
       "    </tr>\n",
       "  </tbody>\n",
       "</table>\n"
      ],
      "text/plain": [
       "<pandas.io.formats.style.Styler at 0x20e8dd6b850>"
      ]
     },
     "execution_count": 15,
     "metadata": {},
     "output_type": "execute_result"
    }
   ],
   "source": [
    "get_target_pivot(df, col='citizenship_merged', target_col='total_payments', positive_target=True)"
   ]
  },
  {
   "cell_type": "code",
   "execution_count": null,
   "id": "402b2edb-dadc-44e7-91aa-827e0724ebbf",
   "metadata": {},
   "outputs": [],
   "source": []
  }
 ],
 "metadata": {
  "kernelspec": {
   "display_name": "Python 3 (ipykernel)",
   "language": "python",
   "name": "python3"
  },
  "language_info": {
   "codemirror_mode": {
    "name": "ipython",
    "version": 3
   },
   "file_extension": ".py",
   "mimetype": "text/x-python",
   "name": "python",
   "nbconvert_exporter": "python",
   "pygments_lexer": "ipython3",
   "version": "3.11.7"
  }
 },
 "nbformat": 4,
 "nbformat_minor": 5
}
